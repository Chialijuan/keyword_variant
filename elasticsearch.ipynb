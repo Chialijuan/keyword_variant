{
 "cells": [
  {
   "cell_type": "code",
   "execution_count": 8,
   "metadata": {},
   "outputs": [],
   "source": [
    "import json"
   ]
  },
  {
   "cell_type": "code",
   "execution_count": 4,
   "metadata": {},
   "outputs": [],
   "source": [
    "import requests\n",
    "res = requests.get('http://localhost:9200')"
   ]
  },
  {
   "cell_type": "code",
   "execution_count": 5,
   "metadata": {},
   "outputs": [],
   "source": [
    "# connect to es cluster\n",
    "from elasticsearch import Elasticsearch\n",
    "es = Elasticsearch([{'host': 'localhost', 'port': 9200}])"
   ]
  },
  {
   "cell_type": "code",
   "execution_count": 70,
   "metadata": {},
   "outputs": [],
   "source": [
    "# dbl metaphone index settings\n",
    "setting_dbl = {\n",
    "  \"settings\": {\n",
    "    \"analysis\": {\n",
    "      \"filter\": {\n",
    "        \"double_metaphone\": {\n",
    "          \"type\": \"phonetic\",\n",
    "          \"encoder\": \"double_metaphone\"\n",
    "        }\n",
    "      },\n",
    "      \"analyzer\": {\n",
    "        \"double_metaphone\": {\n",
    "          \"tokenizer\": \"standard\",\n",
    "          \"filter\": \"double_metaphone\"\n",
    "        }\n",
    "      }\n",
    "    }\n",
    "  },\n",
    "  \"mappings\": {\n",
    "    \"people\": {\n",
    "      \"properties\": {\n",
    "        \"name\": {\n",
    "          \"type\": \"text\",\n",
    "          \"fields\": {\n",
    "            \"phonetic\": {\n",
    "              \"type\": \"text\",\n",
    "              \"analyzer\": \"double_metaphone\"\n",
    "            }\n",
    "          }\n",
    "        }\n",
    "      }\n",
    "    }\n",
    "  }\n",
    "}"
   ]
  },
  {
   "cell_type": "code",
   "execution_count": 71,
   "metadata": {},
   "outputs": [
    {
     "data": {
      "text/plain": [
       "{'acknowledged': True, 'shards_acknowledged': True, 'index': 'dbl_test'}"
      ]
     },
     "execution_count": 71,
     "metadata": {},
     "output_type": "execute_result"
    }
   ],
   "source": [
    "# create dbl metaphone index\n",
    "es.indices.create(index='dbl_test', ignore=400, body=setting_dbl)"
   ]
  },
  {
   "cell_type": "code",
   "execution_count": 72,
   "metadata": {},
   "outputs": [
    {
     "data": {
      "text/plain": [
       "{'_index': 'dbl_test',\n",
       " '_type': 'people',\n",
       " '_id': '2',\n",
       " '_version': 1,\n",
       " 'result': 'created',\n",
       " '_shards': {'total': 2, 'successful': 1, 'failed': 0},\n",
       " '_seq_no': 0,\n",
       " '_primary_term': 1}"
      ]
     },
     "execution_count": 72,
     "metadata": {},
     "output_type": "execute_result"
    }
   ],
   "source": [
    "# Putting in phonetically similar names\n",
    "name1 = {'name': 'John Smith'}\n",
    "name2 = {'name': 'Jonnie Smythe'}\n",
    "\n",
    "es.index(index='dbl_test', doc_type='people', id =1, body=name1) \n",
    "es.index(index='dbl_test', doc_type='people', id =2, body=name2) "
   ]
  },
  {
   "cell_type": "code",
   "execution_count": 74,
   "metadata": {},
   "outputs": [
    {
     "data": {
      "text/plain": [
       "{'took': 11,\n",
       " 'timed_out': False,\n",
       " '_shards': {'total': 5, 'successful': 5, 'skipped': 0, 'failed': 0},\n",
       " 'hits': {'total': 2,\n",
       "  'max_score': 0.9205827,\n",
       "  'hits': [{'_index': 'dbl_test',\n",
       "    '_type': 'people',\n",
       "    '_id': '2',\n",
       "    '_score': 0.9205827,\n",
       "    '_source': {'name': 'Jonnie Smythe'}},\n",
       "   {'_index': 'dbl_test',\n",
       "    '_type': 'people',\n",
       "    '_id': '1',\n",
       "    '_score': 0.9205827,\n",
       "    '_source': {'name': 'John Smith'}}]}}"
      ]
     },
     "execution_count": 74,
     "metadata": {},
     "output_type": "execute_result"
    }
   ],
   "source": [
    "# Search names phonetically\n",
    "es.search(index='dbl_test', body={'query': \n",
    "                             {'match': \n",
    "                              {'name.phonetic':\n",
    "                               {'query': 'Jahnnie Smeeth',\n",
    "                                'operator': 'and'\n",
    "                               }}}})"
   ]
  },
  {
   "cell_type": "markdown",
   "metadata": {},
   "source": [
    "### Different ways to use ES "
   ]
  },
  {
   "cell_type": "code",
   "execution_count": null,
   "metadata": {},
   "outputs": [],
   "source": [
    "# Way to pump in data using API calls\n",
    "# pump in Star Wars data\n",
    "r = requests.get('http://localhost:9200')\n",
    "i = 1\n",
    "while r.status_code == 200:\n",
    "    r = requests.get('http://swapi.co/api/people/'+ str(i))\n",
    "    es.index(index='dbl', doc_type='people', id=i, body=json.loads(r.content))\n",
    "    i=i+1\n",
    "\n",
    "# pump in Star Wars data\n",
    "r = requests.get('http://localhost:9200')\n",
    "i = 18\n",
    "while r.status_code == 200:\n",
    "    r = requests.get('http://swapi.co/api/people/'+ str(i))\n",
    "    es.index(index='dbl', doc_type='people', id=i, body=json.loads(r.content))\n",
    "    i=i+1"
   ]
  },
  {
   "cell_type": "code",
   "execution_count": 44,
   "metadata": {
    "collapsed": true
   },
   "outputs": [
    {
     "data": {
      "text/plain": [
       "{'took': 1,\n",
       " 'timed_out': False,\n",
       " '_shards': {'total': 5, 'successful': 5, 'skipped': 0, 'failed': 0},\n",
       " 'hits': {'total': 2,\n",
       "  'max_score': 1.0,\n",
       "  'hits': [{'_index': 'dbl',\n",
       "    '_type': 'people',\n",
       "    '_id': '1',\n",
       "    '_score': 1.0,\n",
       "    '_source': {'name': 'Luke Skywalker',\n",
       "     'height': '172',\n",
       "     'mass': '77',\n",
       "     'hair_color': 'blond',\n",
       "     'skin_color': 'fair',\n",
       "     'eye_color': 'blue',\n",
       "     'birth_year': '19BBY',\n",
       "     'gender': 'male',\n",
       "     'homeworld': 'https://swapi.co/api/planets/1/',\n",
       "     'films': ['https://swapi.co/api/films/2/',\n",
       "      'https://swapi.co/api/films/6/',\n",
       "      'https://swapi.co/api/films/3/',\n",
       "      'https://swapi.co/api/films/1/',\n",
       "      'https://swapi.co/api/films/7/'],\n",
       "     'species': ['https://swapi.co/api/species/1/'],\n",
       "     'vehicles': ['https://swapi.co/api/vehicles/14/',\n",
       "      'https://swapi.co/api/vehicles/30/'],\n",
       "     'starships': ['https://swapi.co/api/starships/12/',\n",
       "      'https://swapi.co/api/starships/22/'],\n",
       "     'created': '2014-12-09T13:50:51.644000Z',\n",
       "     'edited': '2014-12-20T21:17:56.891000Z',\n",
       "     'url': 'https://swapi.co/api/people/1/'}},\n",
       "   {'_index': 'dbl',\n",
       "    '_type': 'people',\n",
       "    '_id': '64',\n",
       "    '_score': 1.0,\n",
       "    '_source': {'name': 'Luminara Unduli',\n",
       "     'height': '170',\n",
       "     'mass': '56.2',\n",
       "     'hair_color': 'black',\n",
       "     'skin_color': 'yellow',\n",
       "     'eye_color': 'blue',\n",
       "     'birth_year': '58BBY',\n",
       "     'gender': 'female',\n",
       "     'homeworld': 'https://swapi.co/api/planets/51/',\n",
       "     'films': ['https://swapi.co/api/films/5/',\n",
       "      'https://swapi.co/api/films/6/'],\n",
       "     'species': ['https://swapi.co/api/species/29/'],\n",
       "     'vehicles': [],\n",
       "     'starships': [],\n",
       "     'created': '2014-12-20T16:45:53.668000Z',\n",
       "     'edited': '2014-12-20T21:17:50.455000Z',\n",
       "     'url': 'https://swapi.co/api/people/64/'}}]}}"
      ]
     },
     "execution_count": 44,
     "metadata": {},
     "output_type": "execute_result"
    }
   ],
   "source": [
    "# Search via prefix\n",
    "es.search(index=\"dbl\", body={\"query\": {\"prefix\" : { \"name\" : \"lu\" }}})"
   ]
  }
 ],
 "metadata": {
  "kernelspec": {
   "display_name": "Python 3",
   "language": "python",
   "name": "python3"
  },
  "language_info": {
   "codemirror_mode": {
    "name": "ipython",
    "version": 3
   },
   "file_extension": ".py",
   "mimetype": "text/x-python",
   "name": "python",
   "nbconvert_exporter": "python",
   "pygments_lexer": "ipython3",
   "version": "3.6.5"
  }
 },
 "nbformat": 4,
 "nbformat_minor": 2
}
