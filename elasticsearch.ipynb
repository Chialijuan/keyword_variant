{
 "cells": [
  {
   "cell_type": "code",
   "execution_count": 8,
   "metadata": {},
   "outputs": [],
   "source": [
    "import json"
   ]
  },
  {
   "cell_type": "code",
   "execution_count": 4,
   "metadata": {},
   "outputs": [],
   "source": [
    "import requests\n",
    "res = requests.get('http://localhost:9200')"
   ]
  },
  {
   "cell_type": "code",
   "execution_count": 5,
   "metadata": {},
   "outputs": [],
   "source": [
    "# connect to es cluster\n",
    "from elasticsearch import Elasticsearch\n",
    "es = Elasticsearch([{'host': 'localhost', 'port': 9200}])"
   ]
  },
  {
   "cell_type": "code",
   "execution_count": 14,
   "metadata": {},
   "outputs": [],
   "source": [
    "setting_dbl = {\n",
    "    \"settings\": {\n",
    "    \"index\": {\n",
    "      \"analysis\": {\n",
    "        \"analyzer\": {\n",
    "          \"my_analyzer\": {\n",
    "            \"tokenizer\": \"standard\",\n",
    "            \"filter\": [\n",
    "              \"standard\",\n",
    "              \"lowercase\",\n",
    "              \"dbl_metaphone\"\n",
    "            ]\n",
    "          }\n",
    "        },\n",
    "        \"filter\": {\n",
    "          \"dbl_metaphone\": {\n",
    "            \"type\": \"phonetic\",\n",
    "            \"encoder\": \"double_metaphone\",\n",
    "            \"replace\": False}\n",
    "        }\n",
    "      }\n",
    "    }\n",
    "  }\n",
    "}"
   ]
  },
  {
   "cell_type": "code",
   "execution_count": 19,
   "metadata": {},
   "outputs": [
    {
     "data": {
      "text/plain": [
       "{'acknowledged': True, 'shards_acknowledged': True, 'index': 'dbl_test'}"
      ]
     },
     "execution_count": 19,
     "metadata": {},
     "output_type": "execute_result"
    }
   ],
   "source": [
    "es.indices.create(index='dbl', ignore=400, body=setting_dbl)"
   ]
  },
  {
   "cell_type": "code",
   "execution_count": 9,
   "metadata": {},
   "outputs": [],
   "source": [
    "r = requests.get('http://localhost:9200')\n",
    "i = 18\n",
    "while r.status_code == 200:\n",
    "    r = requests.get('http://swapi.co/api/people/'+ str(i))\n",
    "    es.index(index='sw', doc_type='people', id=i, body=json.loads(r.content))\n",
    "    i=i+1"
   ]
  },
  {
   "cell_type": "code",
   "execution_count": 10,
   "metadata": {},
   "outputs": [
    {
     "data": {
      "text/plain": [
       "{'took': 62,\n",
       " 'timed_out': False,\n",
       " '_shards': {'total': 5, 'successful': 5, 'skipped': 0, 'failed': 0},\n",
       " 'hits': {'total': 1,\n",
       "  'max_score': 2.2269652,\n",
       "  'hits': [{'_index': 'sw',\n",
       "    '_type': 'people',\n",
       "    '_id': '44',\n",
       "    '_score': 2.2269652,\n",
       "    '_source': {'name': 'Darth Maul',\n",
       "     'height': '175',\n",
       "     'mass': '80',\n",
       "     'hair_color': 'none',\n",
       "     'skin_color': 'red',\n",
       "     'eye_color': 'yellow',\n",
       "     'birth_year': '54BBY',\n",
       "     'gender': 'male',\n",
       "     'homeworld': 'https://swapi.co/api/planets/36/',\n",
       "     'films': ['https://swapi.co/api/films/4/'],\n",
       "     'species': ['https://swapi.co/api/species/22/'],\n",
       "     'vehicles': ['https://swapi.co/api/vehicles/42/'],\n",
       "     'starships': ['https://swapi.co/api/starships/41/'],\n",
       "     'created': '2014-12-19T18:00:41.929000Z',\n",
       "     'edited': '2014-12-20T21:17:50.403000Z',\n",
       "     'url': 'https://swapi.co/api/people/44/'}}]}}"
      ]
     },
     "execution_count": 10,
     "metadata": {},
     "output_type": "execute_result"
    }
   ],
   "source": [
    "es.search(index='sw', body={'query': {'match': {'name':'Darth Vader'}}})"
   ]
  }
 ],
 "metadata": {
  "kernelspec": {
   "display_name": "Python 3",
   "language": "python",
   "name": "python3"
  },
  "language_info": {
   "codemirror_mode": {
    "name": "ipython",
    "version": 3
   },
   "file_extension": ".py",
   "mimetype": "text/x-python",
   "name": "python",
   "nbconvert_exporter": "python",
   "pygments_lexer": "ipython3",
   "version": "3.6.5"
  }
 },
 "nbformat": 4,
 "nbformat_minor": 2
}
